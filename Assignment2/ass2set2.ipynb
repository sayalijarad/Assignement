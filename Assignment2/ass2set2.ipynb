{
 "cells": [
  {
   "cell_type": "markdown",
   "id": "f99eb787",
   "metadata": {},
   "source": [
    "# q1"
   ]
  },
  {
   "cell_type": "code",
   "execution_count": 28,
   "id": "c92671e6",
   "metadata": {},
   "outputs": [],
   "source": [
    "import scipy.stats as stats\n",
    "import seaborn as sns\n",
    "import warnings\n",
    "warnings.filterwarnings('ignore')"
   ]
  },
  {
   "cell_type": "code",
   "execution_count": 29,
   "id": "f3584810",
   "metadata": {},
   "outputs": [],
   "source": [
    "# from the question it is cler that  μ = 45  std = 8\n",
    "#  μ = 45+10    as servising will start 10 minutes after the car is dropped \n"
   ]
  },
  {
   "cell_type": "code",
   "execution_count": 30,
   "id": "74cfa5c1",
   "metadata": {},
   "outputs": [],
   "source": [
    "mew= 55\n",
    "std=8"
   ]
  },
  {
   "cell_type": "code",
   "execution_count": 31,
   "id": "cf2d3557",
   "metadata": {},
   "outputs": [],
   "source": [
    "q1 = stats.norm.sf(60, loc = mew, scale = std)"
   ]
  },
  {
   "cell_type": "code",
   "execution_count": 32,
   "id": "caeca591",
   "metadata": {},
   "outputs": [
    {
     "name": "stdout",
     "output_type": "stream",
     "text": [
      "The probability that the service manager cannot meet his \n",
      "      commitment is 0.26599\n"
     ]
    }
   ],
   "source": [
    "print(\"\"\"The probability that the service manager cannot meet his \n",
    "      commitment is\"\"\",np.round(q1,5))"
   ]
  },
  {
   "cell_type": "code",
   "execution_count": null,
   "id": "a5ce8a67",
   "metadata": {},
   "outputs": [],
   "source": []
  },
  {
   "cell_type": "markdown",
   "id": "9418d73e",
   "metadata": {},
   "source": [
    "# q2"
   ]
  },
  {
   "cell_type": "code",
   "execution_count": 33,
   "id": "19d513a2",
   "metadata": {},
   "outputs": [],
   "source": [
    "import scipy.stats as stats\n",
    "import warnings\n",
    "warnings.filterwarnings('ignore')"
   ]
  },
  {
   "cell_type": "code",
   "execution_count": 34,
   "id": "d3662cc0",
   "metadata": {},
   "outputs": [],
   "source": [
    "mew = 38\n",
    "std = 6"
   ]
  },
  {
   "cell_type": "code",
   "execution_count": 35,
   "id": "ac63ba74",
   "metadata": {},
   "outputs": [],
   "source": [
    "lessthan_38 = stats.norm.cdf(38, loc = mew, scale = std)\n"
   ]
  },
  {
   "cell_type": "code",
   "execution_count": 36,
   "id": "e661e0bf",
   "metadata": {},
   "outputs": [],
   "source": [
    "less_than_44 = stats.norm.cdf(44, loc = mew,  scale = std)"
   ]
  },
  {
   "cell_type": "code",
   "execution_count": 37,
   "id": "ff8effbe",
   "metadata": {},
   "outputs": [],
   "source": [
    "betweeen_38_and_44 = (less_than_44 - lessthan_38)"
   ]
  },
  {
   "cell_type": "code",
   "execution_count": 38,
   "id": "966e40ec",
   "metadata": {},
   "outputs": [
    {
     "name": "stdout",
     "output_type": "stream",
     "text": [
      "The probability of employee age betweeen 38 and 44 is 34.13 %\n"
     ]
    }
   ],
   "source": [
    "print('The probability of employee age betweeen 38 and 44 is',np.round(betweeen_38_and_44*100,2),'%')"
   ]
  },
  {
   "cell_type": "code",
   "execution_count": 41,
   "id": "269a8d70",
   "metadata": {},
   "outputs": [],
   "source": [
    "morethan_44 = 1-stats.norm.cdf(44, loc = mew, scale = std)\n"
   ]
  },
  {
   "cell_type": "code",
   "execution_count": 42,
   "id": "2c2e5088",
   "metadata": {},
   "outputs": [
    {
     "name": "stdout",
     "output_type": "stream",
     "text": [
      "The probability of employee age more than 44 is 15.87 %\n"
     ]
    }
   ],
   "source": [
    "print('The probability of employee age more than 44 is',np.round(morethan_44*100,2),'%')"
   ]
  },
  {
   "cell_type": "code",
   "execution_count": 43,
   "id": "cc2b7264",
   "metadata": {},
   "outputs": [],
   "source": [
    "t_f = (morethan_44 > betweeen_38_and_44)"
   ]
  },
  {
   "cell_type": "code",
   "execution_count": 44,
   "id": "9fefc5b9",
   "metadata": {},
   "outputs": [
    {
     "name": "stdout",
     "output_type": "stream",
     "text": [
      "Answer: False\n"
     ]
    }
   ],
   "source": [
    "print('Answer:',t_f)"
   ]
  },
  {
   "cell_type": "code",
   "execution_count": 45,
   "id": "624f2934",
   "metadata": {},
   "outputs": [],
   "source": [
    "# q2b"
   ]
  },
  {
   "cell_type": "code",
   "execution_count": 47,
   "id": "ce76e144",
   "metadata": {},
   "outputs": [],
   "source": [
    "q2b = stats.norm.cdf(30, loc = mew, scale = std)"
   ]
  },
  {
   "cell_type": "code",
   "execution_count": 48,
   "id": "81d656a9",
   "metadata": {},
   "outputs": [
    {
     "name": "stdout",
     "output_type": "stream",
     "text": [
      "A training program for employees under the age of 30 at the center would be expected to attract about 36.0 employees\n"
     ]
    }
   ],
   "source": [
    "print(\"\"\"A training program for employees under the age of 30 at the center would be expected to attract about\"\"\"\n",
    "      ,np.round((q2b*400),0),'employees')"
   ]
  },
  {
   "cell_type": "code",
   "execution_count": null,
   "id": "332bd2de",
   "metadata": {},
   "outputs": [],
   "source": []
  },
  {
   "cell_type": "markdown",
   "id": "5c701b10",
   "metadata": {},
   "source": [
    "#  q4 \n"
   ]
  },
  {
   "cell_type": "code",
   "execution_count": 58,
   "id": "4fbc5f5b",
   "metadata": {},
   "outputs": [],
   "source": [
    "import scipy.stats as stats\n",
    "import warnings\n",
    "warnings.filterwarnings('ignore')"
   ]
  },
  {
   "cell_type": "code",
   "execution_count": 59,
   "id": "8be73b8a",
   "metadata": {},
   "outputs": [],
   "source": [
    "# Given\n",
    "mew = 100\n",
    "std = 20"
   ]
  },
  {
   "cell_type": "code",
   "execution_count": 60,
   "id": "e3d8e570",
   "metadata": {},
   "outputs": [
    {
     "data": {
      "text/plain": [
       "-2.5758"
      ]
     },
     "execution_count": 60,
     "metadata": {},
     "output_type": "execute_result"
    }
   ],
   "source": [
    "z_005_ = np.round(stats.norm.ppf(0.005),4)\n",
    "z_005_"
   ]
  },
  {
   "cell_type": "code",
   "execution_count": 61,
   "id": "5b55c640",
   "metadata": {},
   "outputs": [
    {
     "data": {
      "text/plain": [
       "2.5758"
      ]
     },
     "execution_count": 61,
     "metadata": {},
     "output_type": "execute_result"
    }
   ],
   "source": [
    "z_99_ = np.round(stats.norm.ppf(0.995),4)\n",
    "z_99_\n"
   ]
  },
  {
   "cell_type": "code",
   "execution_count": 62,
   "id": "43e17328",
   "metadata": {},
   "outputs": [
    {
     "name": "stdout",
     "output_type": "stream",
     "text": [
      "The two values of a and b, symmetric about the mean, are such that the probability of the random variable taking a value between them is 0.99: 48.5 151.5\n"
     ]
    }
   ],
   "source": [
    "#z = (x_bar - mew) / std       x_bar = (z*std) + mew\n",
    "a = np.round((z_005_*std) + mew,1)\n",
    "b = np.round((z_99_*std) + mew,1)\n",
    "print(\"The two values of a and b, symmetric about the mean, are such that the probability of the random variable taking a value between them is 0.99:\",a,b)"
   ]
  },
  {
   "cell_type": "code",
   "execution_count": null,
   "id": "5f3fb89d",
   "metadata": {},
   "outputs": [],
   "source": []
  },
  {
   "cell_type": "markdown",
   "id": "476ef39e",
   "metadata": {},
   "source": [
    "# q5"
   ]
  },
  {
   "cell_type": "code",
   "execution_count": 65,
   "id": "9a976756",
   "metadata": {},
   "outputs": [],
   "source": [
    "mean1 = 5\n",
    "mean2 = 7\n",
    "Mean = (mean1+mean2)          # 1 USD = 45 rupees"
   ]
  },
  {
   "cell_type": "code",
   "execution_count": 66,
   "id": "1a920433",
   "metadata": {},
   "outputs": [
    {
     "name": "stdout",
     "output_type": "stream",
     "text": [
      "The Mean Profit of both division: 12 Million$\n",
      "The Mean Profit of both division: 54.0 Crore Rupees\n"
     ]
    }
   ],
   "source": [
    "print('The Mean Profit of both division:',Mean, 'Million$')\n",
    "print('The Mean Profit of both division:',(Mean*45)/10, 'Crore Rupees')"
   ]
  },
  {
   "cell_type": "code",
   "execution_count": 67,
   "id": "a0683fcd",
   "metadata": {},
   "outputs": [],
   "source": [
    "# Combine standard Deviation = (Std1^2 + Std2^2)^1/2\n",
    "std1 = 3**2\n",
    "std2 = 4**2\n",
    "Std = np.sqrt(std1 + std2)"
   ]
  },
  {
   "cell_type": "code",
   "execution_count": 68,
   "id": "3ab3198b",
   "metadata": {},
   "outputs": [
    {
     "name": "stdout",
     "output_type": "stream",
     "text": [
      "The Standard Deviation of both division: 5.0 Million$\n",
      "The Standard Deviation of both division: 22.5 Crore Rupees\n"
     ]
    }
   ],
   "source": [
    "print('The Standard Deviation of both division:', Std, 'Million$')\n",
    "print('The Standard Deviation of both division:', (Std*45)/10, 'Crore Rupees')"
   ]
  },
  {
   "cell_type": "markdown",
   "id": "3000329f",
   "metadata": {},
   "source": [
    "A. Specify a Rupee range (centered on the mean) such that it contains 95% probability for the annual profit of the company."
   ]
  },
  {
   "cell_type": "code",
   "execution_count": 69,
   "id": "262e373b",
   "metadata": {},
   "outputs": [],
   "source": [
    "r1, r2 = np.round(stats.norm.interval(0.95, Mean, Std),2)"
   ]
  },
  {
   "cell_type": "code",
   "execution_count": 70,
   "id": "a2fa187e",
   "metadata": {},
   "outputs": [
    {
     "name": "stdout",
     "output_type": "stream",
     "text": [
      "Rupee Ranges from 2.2 to 21.8 Million$ in Annual profit of the Company 95% of the time\n",
      "Rupee Ranges from 9.900000000000002 to 98.1 Crore Rupees in Annual profit of the Company 95% of the time\n"
     ]
    }
   ],
   "source": [
    "print('Rupee Ranges from',r1,'to',r2,'Million$ in Annual profit of the Company 95% of the time')\n",
    "print('Rupee Ranges from',np.divide(np.multiply(r1,45),10),'to',np.divide(np.multiply(r2,45),10),'Crore Rupees in Annual profit of the Company 95% of the time')"
   ]
  },
  {
   "cell_type": "markdown",
   "id": "01970cdf",
   "metadata": {},
   "source": [
    "B. Specify the 5th percentile of profit (in Rupees) for the company"
   ]
  },
  {
   "cell_type": "code",
   "execution_count": 71,
   "id": "653dd1af",
   "metadata": {},
   "outputs": [],
   "source": [
    "Z_05_ = stats.norm.ppf(0.05)\n",
    "Fifth_percentile = (Z_05_ * Std) + Mean\n"
   ]
  },
  {
   "cell_type": "code",
   "execution_count": 72,
   "id": "1a3376c0",
   "metadata": {},
   "outputs": [
    {
     "name": "stdout",
     "output_type": "stream",
     "text": [
      "The 5th percentile of Profit for the company is 3.78 Million$\n",
      "The 5th percentile of Profit for the company is 17.0 Crore Rupees\n"
     ]
    }
   ],
   "source": [
    "print('The 5th percentile of Profit for the company is',np.round(Fifth_percentile,2),'Million$')\n",
    "print('The 5th percentile of Profit for the company is',np.round((Fifth_percentile*45)/10,),'Crore Rupees')"
   ]
  },
  {
   "cell_type": "markdown",
   "id": "02239fe5",
   "metadata": {},
   "source": [
    "C. Which of the two divisions has a larger probability of making a loss in a given year?"
   ]
  },
  {
   "cell_type": "code",
   "execution_count": 73,
   "id": "5de1948b",
   "metadata": {},
   "outputs": [
    {
     "name": "stdout",
     "output_type": "stream",
     "text": [
      "The Probability of Division #1 making a loss is 4.78 %\n"
     ]
    }
   ],
   "source": [
    "print('The Probability of Division #1 making a loss is',np.round((stats.norm.cdf(0,5,3))*100,2),'%')"
   ]
  },
  {
   "cell_type": "code",
   "execution_count": 74,
   "id": "fc255ce3",
   "metadata": {},
   "outputs": [
    {
     "name": "stdout",
     "output_type": "stream",
     "text": [
      "The Probability of Division #2 making a loss is 4.01 %\n"
     ]
    }
   ],
   "source": [
    "print('The Probability of Division #2 making a loss is',np.round((stats.norm.cdf(0,7,4))*100,2),'%')"
   ]
  },
  {
   "cell_type": "code",
   "execution_count": 75,
   "id": "3ef34015",
   "metadata": {},
   "outputs": [],
   "source": [
    "Division_1 = (stats.norm.cdf(0,5,3))*100\n",
    "Division_2 = (stats.norm.cdf(0,7,4))*100"
   ]
  },
  {
   "cell_type": "code",
   "execution_count": 76,
   "id": "eb46f4d6",
   "metadata": {},
   "outputs": [
    {
     "name": "stdout",
     "output_type": "stream",
     "text": [
      "The Division 1 has a larger Probability of making a loss\n"
     ]
    }
   ],
   "source": [
    "if Division_1>Division_2:\n",
    "    print('The Division 1 has a larger Probability of making a loss')\n",
    "else:\n",
    "          print('The Division 2 has a larger Porbability of making a loss')"
   ]
  },
  {
   "cell_type": "code",
   "execution_count": null,
   "id": "963a9814",
   "metadata": {},
   "outputs": [],
   "source": []
  }
 ],
 "metadata": {
  "kernelspec": {
   "display_name": "Python 3 (ipykernel)",
   "language": "python",
   "name": "python3"
  },
  "language_info": {
   "codemirror_mode": {
    "name": "ipython",
    "version": 3
   },
   "file_extension": ".py",
   "mimetype": "text/x-python",
   "name": "python",
   "nbconvert_exporter": "python",
   "pygments_lexer": "ipython3",
   "version": "3.9.13"
  }
 },
 "nbformat": 4,
 "nbformat_minor": 5
}
