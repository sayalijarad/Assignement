{
 "cells": [
  {
   "cell_type": "markdown",
   "id": "86f7b644",
   "metadata": {},
   "source": [
    "# q5"
   ]
  },
  {
   "cell_type": "code",
   "execution_count": 2,
   "id": "e2780683",
   "metadata": {},
   "outputs": [],
   "source": [
    "import scipy.stats as stats\n",
    "import pandas as pd\n",
    "import numpy as np\n",
    "import warnings\n",
    "warnings.filterwarnings('ignore')"
   ]
  },
  {
   "cell_type": "code",
   "execution_count": 3,
   "id": "0df07933",
   "metadata": {},
   "outputs": [],
   "source": [
    "p_hat = .046\n",
    "p = .05\n",
    "n = 2000"
   ]
  },
  {
   "cell_type": "code",
   "execution_count": 4,
   "id": "902c8d1b",
   "metadata": {},
   "outputs": [
    {
     "data": {
      "text/plain": [
       "-0.820782681668124"
      ]
     },
     "execution_count": 4,
     "metadata": {},
     "output_type": "execute_result"
    }
   ],
   "source": [
    "z_score = (p_hat-p)/(np.sqrt((p*(1-p))/n))\n",
    "z_score"
   ]
  },
  {
   "cell_type": "code",
   "execution_count": 5,
   "id": "761de503",
   "metadata": {},
   "outputs": [
    {
     "data": {
      "text/plain": [
       "0.20582313410777142"
      ]
     },
     "execution_count": 5,
     "metadata": {},
     "output_type": "execute_result"
    }
   ],
   "source": [
    "p_value = stats.norm.sf(0.821)\n",
    "p_value"
   ]
  },
  {
   "cell_type": "code",
   "execution_count": 6,
   "id": "dc879987",
   "metadata": {},
   "outputs": [
    {
     "name": "stdout",
     "output_type": "stream",
     "text": [
      "No: Microsoft could not conclude that Mozilla has a less\n",
      "    than 5% share of the market even if the sample were \n",
      "    based on 2,000 users\n"
     ]
    }
   ],
   "source": [
    "if p_value>0.05:\n",
    "    print(\"\"\"No: Microsoft could not conclude that Mozilla has a less\n",
    "    than 5% share of the market even if the sample were \n",
    "    based on 2,000 users\"\"\")\n",
    "else:\n",
    "    print(\"Yes\")"
   ]
  },
  {
   "cell_type": "code",
   "execution_count": null,
   "id": "08cbb6b1",
   "metadata": {},
   "outputs": [],
   "source": []
  }
 ],
 "metadata": {
  "kernelspec": {
   "display_name": "Python 3 (ipykernel)",
   "language": "python",
   "name": "python3"
  },
  "language_info": {
   "codemirror_mode": {
    "name": "ipython",
    "version": 3
   },
   "file_extension": ".py",
   "mimetype": "text/x-python",
   "name": "python",
   "nbconvert_exporter": "python",
   "pygments_lexer": "ipython3",
   "version": "3.9.13"
  }
 },
 "nbformat": 4,
 "nbformat_minor": 5
}
