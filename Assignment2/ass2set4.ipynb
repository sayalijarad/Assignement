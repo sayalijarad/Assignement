{
 "cells": [
  {
   "cell_type": "markdown",
   "id": "42fb3691",
   "metadata": {},
   "source": [
    "# q3\n"
   ]
  },
  {
   "cell_type": "code",
   "execution_count": 1,
   "id": "d410601a",
   "metadata": {},
   "outputs": [],
   "source": [
    "import numpy as np\n",
    "import scipy.stats as stats\n"
   ]
  },
  {
   "cell_type": "code",
   "execution_count": 2,
   "id": "b1ea8e7f",
   "metadata": {},
   "outputs": [],
   "source": [
    "mean = 50\n",
    "std = 40\n",
    "n = 100\n",
    "d_f = 100 - 1 #degree of freedom"
   ]
  },
  {
   "cell_type": "code",
   "execution_count": 4,
   "id": "b12b27dc",
   "metadata": {},
   "outputs": [],
   "source": [
    "t_forty_five = (45-50)/(40/np.sqrt(100))\n",
    "t_fifty_five = (55-50)/(40/np.sqrt(100))"
   ]
  },
  {
   "cell_type": "code",
   "execution_count": 6,
   "id": "44b89765",
   "metadata": {},
   "outputs": [],
   "source": [
    "forty_five = stats.t.cdf(t_forty_five, df = d_f)\n",
    "fifty_five = stats.t.cdf(t_fifty_five, d_f)"
   ]
  },
  {
   "cell_type": "code",
   "execution_count": 7,
   "id": "de891676",
   "metadata": {},
   "outputs": [],
   "source": [
    "prob = fifty_five - forty_five"
   ]
  },
  {
   "cell_type": "code",
   "execution_count": 8,
   "id": "fce52996",
   "metadata": {},
   "outputs": [
    {
     "name": "stderr",
     "output_type": "stream",
     "text": [
      "C:\\Users\\sayali bhorde\\AppData\\Local\\Temp\\ipykernel_24004\\3620460200.py:1: DeprecationWarning: Use of keyword argument `alpha` for method `interval` is deprecated. Use first positional argument or keyword argument `confidence` instead.\n",
      "  np.round(stats.t.interval(alpha = prob, df = d_f, loc = mean, scale = std/np.sqrt(n)),)\n"
     ]
    },
    {
     "data": {
      "text/plain": [
       "array([45., 55.])"
      ]
     },
     "execution_count": 8,
     "metadata": {},
     "output_type": "execute_result"
    }
   ],
   "source": [
    "np.round(stats.t.interval(alpha = prob, df = d_f, loc = mean, scale = std/np.sqrt(n)),)"
   ]
  },
  {
   "cell_type": "code",
   "execution_count": 9,
   "id": "bf45ef53",
   "metadata": {},
   "outputs": [
    {
     "name": "stdout",
     "output_type": "stream",
     "text": [
      "The probability that in any given week, there will be an investigation is 21.4 %\n"
     ]
    }
   ],
   "source": [
    "print('The probability that in any given week, there will be an investigation is',np.round((1-prob)*100,1),'%')"
   ]
  },
  {
   "cell_type": "code",
   "execution_count": null,
   "id": "f797a5be",
   "metadata": {},
   "outputs": [],
   "source": []
  },
  {
   "cell_type": "markdown",
   "id": "2a8acce4",
   "metadata": {},
   "source": [
    "# Q4"
   ]
  },
  {
   "cell_type": "code",
   "execution_count": 18,
   "id": "7bbf8c65",
   "metadata": {},
   "outputs": [],
   "source": [
    "import numpy as np\n",
    "import scipy.stats as stats\n",
    "import warnings\n",
    "warnings.filterwarnings('ignore')"
   ]
  },
  {
   "cell_type": "code",
   "execution_count": 19,
   "id": "aefc8ae8",
   "metadata": {},
   "outputs": [],
   "source": [
    "x_bar = 45\n",
    "s_std = 40\n",
    "mew = 50\n"
   ]
  },
  {
   "cell_type": "code",
   "execution_count": 20,
   "id": "3906c1eb",
   "metadata": {},
   "outputs": [
    {
     "data": {
      "text/plain": [
       "-1.97"
      ]
     },
     "execution_count": 20,
     "metadata": {},
     "output_type": "execute_result"
    }
   ],
   "source": [
    "t = np.round(stats.t.ppf(0.025, df = 249),2)\n",
    "t"
   ]
  },
  {
   "cell_type": "code",
   "execution_count": 21,
   "id": "e2fe83ca",
   "metadata": {},
   "outputs": [],
   "source": [
    "n = ((s_std*abs(t)) / (5))**2"
   ]
  },
  {
   "cell_type": "code",
   "execution_count": 22,
   "id": "358b42b6",
   "metadata": {},
   "outputs": [
    {
     "name": "stdout",
     "output_type": "stream",
     "text": [
      "The Auditors would like to maintain the probability of investigation to 5%, they should sample 248.0 transactions if they do not want to change the thresholds of 45 to 55\n",
      "248.3776 247.3776\n"
     ]
    },
    {
     "data": {
      "text/plain": [
       "array([45., 55.])"
      ]
     },
     "execution_count": 22,
     "metadata": {},
     "output_type": "execute_result"
    }
   ],
   "source": [
    "print('The Auditors would like to maintain the probability of investigation to 5%, they should sample',np.round(n,),'transactions if they do not want to change the thresholds of 45 to 55')\n",
    "df= n-1\n",
    "print(n, df)\n",
    "np.round(stats.t.interval(alpha = 0.95, df = df, loc = mew, scale = s_std/np.sqrt(n)),)"
   ]
  },
  {
   "cell_type": "code",
   "execution_count": null,
   "id": "e0101175",
   "metadata": {},
   "outputs": [],
   "source": []
  },
  {
   "cell_type": "code",
   "execution_count": null,
   "id": "5326399a",
   "metadata": {},
   "outputs": [],
   "source": []
  },
  {
   "cell_type": "code",
   "execution_count": null,
   "id": "cfaaf6c1",
   "metadata": {},
   "outputs": [],
   "source": []
  }
 ],
 "metadata": {
  "kernelspec": {
   "display_name": "Python 3 (ipykernel)",
   "language": "python",
   "name": "python3"
  },
  "language_info": {
   "codemirror_mode": {
    "name": "ipython",
    "version": 3
   },
   "file_extension": ".py",
   "mimetype": "text/x-python",
   "name": "python",
   "nbconvert_exporter": "python",
   "pygments_lexer": "ipython3",
   "version": "3.9.13"
  }
 },
 "nbformat": 4,
 "nbformat_minor": 5
}
